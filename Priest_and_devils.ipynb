{
  "nbformat": 4,
  "nbformat_minor": 0,
  "metadata": {
    "colab": {
      "provenance": [],
      "collapsed_sections": [
        "cO-Kz5xtY9WC",
        "MGlRnIFs5ysa"
      ]
    },
    "kernelspec": {
      "name": "python3",
      "display_name": "Python 3"
    },
    "language_info": {
      "name": "python"
    }
  },
  "cells": [
    {
      "cell_type": "markdown",
      "source": [
        "# Breadth First Search"
      ],
      "metadata": {
        "id": "VN9a8ljpY3bl"
      }
    },
    {
      "cell_type": "markdown",
      "source": [
        "### `neighbors` function\n",
        "\n",
        "This function returns a list of all possible next states given the current state."
      ],
      "metadata": {
        "id": "cO-Kz5xtY9WC"
      }
    },
    {
      "cell_type": "code",
      "source": [
        "def neighbors(curr_state):\n",
        "\n",
        "  neighbors = []\n",
        "\n",
        "  # All possible moves\n",
        "  p = [-1,-2, 0, 0,-1, 1, 2, 0, 0, 1]\n",
        "  d = [ 0, 0,-1,-2,-1, 0, 0, 1, 2, 1]\n",
        "  b = [ 1, 1, 1, 1, 1,-1,-1,-1,-1,-1]\n",
        "\n",
        "  for i in range(len(p)):\n",
        "\n",
        "    p1 = curr_state[0] + p[i]\n",
        "    d1 = curr_state[1] + d[i]\n",
        "    b1 = curr_state[2] + b[i]\n",
        "\n",
        "    if isValid(curr_state, p1, d1, b1):\n",
        "\n",
        "      neighbors.append((p1, d1, b1))\n",
        "\n",
        "\n",
        "  return neighbors"
      ],
      "metadata": {
        "id": "4a6j0f3Ruh0C"
      },
      "execution_count": 25,
      "outputs": []
    },
    {
      "cell_type": "markdown",
      "source": [
        "### `isValid` function\n",
        "This function checks if there are more devils than priests on either side of the river.\n",
        "\n"
      ],
      "metadata": {
        "id": "MGlRnIFs5ysa"
      }
    },
    {
      "cell_type": "code",
      "source": [
        "def isValid(c, p, d, b):\n",
        "  if  (0 <= p <= 3) & (0 <= d <= 3) & ( 0 <= b <= 1):\n",
        "\n",
        "    # This condition prevents more devils than\n",
        "    # priests on the right side of the river.\n",
        "    if (d <= p) or (p==0):\n",
        "\n",
        "      # This condition checks if the neighboring\n",
        "      # node is in the opposite side of the river.\n",
        "      if c[2] != b:\n",
        "\n",
        "        # This condition prevents more devils than\n",
        "        # priests on the left side of the river.\n",
        "        if ((3-d) <= (3-p)) or ((3-p) == 0):\n",
        "          return True\n",
        "  return False\n"
      ],
      "metadata": {
        "id": "EODqj_qTo1wy"
      },
      "execution_count": 105,
      "outputs": []
    },
    {
      "cell_type": "markdown",
      "source": [
        "## Breadth Search First function\n",
        "This function applies breadth first search to solve the problem.\n",
        "\n",
        "\n",
        "Input:\n",
        "*   `curr_state`: A tuple describing the current state of the game.\n",
        "*   `goal`: A tuple describing the final state of the game.\n",
        "\n",
        "Output:\n",
        "*  `True` if the solution is found.\n",
        "\n",
        "### The tuple\n",
        "\n",
        "The first element of the tuple is the number of priests (0, 1, 2 or 3). The second element is the number of devils (0, 1, 2 or 3). The third number is the position of the boat, 1 means the boat is on the left and 0 means it is on the right.\n",
        "\n",
        "Example:\n",
        "\n",
        "(3, 2, 1)\n",
        "\n",
        "Means that there are 3 priest and 2 devils on the right side of the river but the boat is on the left side of the river.\n",
        "\n"
      ],
      "metadata": {
        "id": "nxqV7h3nZsHh"
      }
    },
    {
      "cell_type": "code",
      "source": [
        "def BFS(curr_state, goal):\n",
        "  start = curr_state\n",
        "\n",
        "  queue = []\n",
        "  visited = []\n",
        "\n",
        "  queue.append(start)\n",
        "  visited.append(start)\n",
        "\n",
        "  print(\"Queue:\", queue)\n",
        "  i = 0\n",
        "  while queue:\n",
        "\n",
        "    print(\"\\nIteration\", i,\"\\nQueue =\", queue)\n",
        "\n",
        "    curr_state = queue.pop(0)\n",
        "\n",
        "    print(\"Pop this node\", curr_state)\n",
        "\n",
        "    i+=1\n",
        "    if curr_state == goal:\n",
        "      print(\"Goal\", goal, \"found\")\n",
        "      return True\n",
        "\n",
        "    for n in neighbors(curr_state):\n",
        "      if n not in visited:\n",
        "        queue.append(n)\n",
        "        visited.append(n)\n",
        "\n",
        "    print(\"Queue after adding the neighbors\", queue)\n",
        "\n",
        "  return False\n"
      ],
      "metadata": {
        "id": "_d4fknsvZzNH"
      },
      "execution_count": 129,
      "outputs": []
    },
    {
      "cell_type": "markdown",
      "source": [
        "## Test"
      ],
      "metadata": {
        "id": "wBIeeB1DHhU9"
      }
    },
    {
      "cell_type": "code",
      "source": [
        "curr_state = (3, 3, 0)\n",
        "goal = (0,0,1)\n",
        "BFS(curr_state, goal)"
      ],
      "metadata": {
        "colab": {
          "base_uri": "https://localhost:8080/"
        },
        "id": "bpn6omuCHbuD",
        "outputId": "853c0a2b-34b4-45d6-f1d4-5047e247bea8"
      },
      "execution_count": 130,
      "outputs": [
        {
          "output_type": "stream",
          "name": "stdout",
          "text": [
            "Queue: [(3, 3, 0)]\n",
            "\n",
            "Iteration 0 \n",
            "Queue = [(3, 3, 0)]\n",
            "Pop this node (3, 3, 0)\n",
            "Queue after adding the neighbors [(3, 2, 1), (3, 1, 1), (2, 2, 1)]\n",
            "\n",
            "Iteration 1 \n",
            "Queue = [(3, 2, 1), (3, 1, 1), (2, 2, 1)]\n",
            "Pop this node (3, 2, 1)\n",
            "Queue after adding the neighbors [(3, 1, 1), (2, 2, 1)]\n",
            "\n",
            "Iteration 2 \n",
            "Queue = [(3, 1, 1), (2, 2, 1)]\n",
            "Pop this node (3, 1, 1)\n",
            "Queue after adding the neighbors [(2, 2, 1), (3, 2, 0)]\n",
            "\n",
            "Iteration 3 \n",
            "Queue = [(2, 2, 1), (3, 2, 0)]\n",
            "Pop this node (2, 2, 1)\n",
            "Queue after adding the neighbors [(3, 2, 0)]\n",
            "\n",
            "Iteration 4 \n",
            "Queue = [(3, 2, 0)]\n",
            "Pop this node (3, 2, 0)\n",
            "Queue after adding the neighbors [(3, 0, 1)]\n",
            "\n",
            "Iteration 5 \n",
            "Queue = [(3, 0, 1)]\n",
            "Pop this node (3, 0, 1)\n",
            "Queue after adding the neighbors [(3, 1, 0)]\n",
            "\n",
            "Iteration 6 \n",
            "Queue = [(3, 1, 0)]\n",
            "Pop this node (3, 1, 0)\n",
            "Queue after adding the neighbors [(1, 1, 1)]\n",
            "\n",
            "Iteration 7 \n",
            "Queue = [(1, 1, 1)]\n",
            "Pop this node (1, 1, 1)\n",
            "Queue after adding the neighbors [(2, 2, 0)]\n",
            "\n",
            "Iteration 8 \n",
            "Queue = [(2, 2, 0)]\n",
            "Pop this node (2, 2, 0)\n",
            "Queue after adding the neighbors [(0, 2, 1)]\n",
            "\n",
            "Iteration 9 \n",
            "Queue = [(0, 2, 1)]\n",
            "Pop this node (0, 2, 1)\n",
            "Queue after adding the neighbors [(0, 3, 0)]\n",
            "\n",
            "Iteration 10 \n",
            "Queue = [(0, 3, 0)]\n",
            "Pop this node (0, 3, 0)\n",
            "Queue after adding the neighbors [(0, 1, 1)]\n",
            "\n",
            "Iteration 11 \n",
            "Queue = [(0, 1, 1)]\n",
            "Pop this node (0, 1, 1)\n",
            "Queue after adding the neighbors [(1, 1, 0), (0, 2, 0)]\n",
            "\n",
            "Iteration 12 \n",
            "Queue = [(1, 1, 0), (0, 2, 0)]\n",
            "Pop this node (1, 1, 0)\n",
            "Queue after adding the neighbors [(0, 2, 0), (0, 0, 1)]\n",
            "\n",
            "Iteration 13 \n",
            "Queue = [(0, 2, 0), (0, 0, 1)]\n",
            "Pop this node (0, 2, 0)\n",
            "Queue after adding the neighbors [(0, 0, 1)]\n",
            "\n",
            "Iteration 14 \n",
            "Queue = [(0, 0, 1)]\n",
            "Pop this node (0, 0, 1)\n",
            "Goal (0, 0, 1) found\n"
          ]
        },
        {
          "output_type": "execute_result",
          "data": {
            "text/plain": [
              "True"
            ]
          },
          "metadata": {},
          "execution_count": 130
        }
      ]
    }
  ]
}